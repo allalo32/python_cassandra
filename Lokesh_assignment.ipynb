{
  "nbformat": 4,
  "nbformat_minor": 0,
  "metadata": {
    "colab": {
      "provenance": []
    },
    "kernelspec": {
      "name": "python3",
      "display_name": "Python 3"
    },
    "language_info": {
      "name": "python"
    }
  },
  "cells": [
    {
      "cell_type": "markdown",
      "source": [
        "## Creating Medallian architecture with Python and Cassandra"
      ],
      "metadata": {
        "id": "HJKoDF9MzeIl"
      }
    },
    {
      "cell_type": "code",
      "source": [
        "#required Libraries\n",
        "from cassandra.cluster import Cluster\n",
        "from cassandra.auth import PlainTextAuthProvider\n",
        "import json\n",
        "import uuid\n",
        "import pandas as pd\n",
        "from datetime import datetime"
      ],
      "metadata": {
        "id": "ixrLSL5IItfQ"
      },
      "execution_count": 1,
      "outputs": []
    },
    {
      "cell_type": "markdown",
      "source": [
        "#### 1. Establish Connection to Cassandra"
      ],
      "metadata": {
        "id": "kIJynsJgJIij"
      }
    },
    {
      "cell_type": "code",
      "source": [
        "cloud_config= {\n",
        "  'secure_connect_bundle': 'secure-connect-sales-100.zip'\n",
        "}\n",
        "\n",
        "with open(\"sales_100-token.json\") as f:\n",
        "    secrets = json.load(f)\n",
        "\n",
        "CLIENT_ID = secrets[\"clientId\"]\n",
        "CLIENT_SECRET = secrets[\"secret\"]\n",
        "\n",
        "auth_provider = PlainTextAuthProvider(CLIENT_ID, CLIENT_SECRET)\n",
        "cluster = Cluster(cloud=cloud_config, auth_provider=auth_provider)\n",
        "session = cluster.connect()\n",
        "session.set_keyspace('lokesh_ks')\n",
        "if session:\n",
        "  print('Connected!')\n",
        "else:\n",
        "  print(\"An error occurred.\")"
      ],
      "metadata": {
        "colab": {
          "base_uri": "https://localhost:8080/"
        },
        "id": "A5lzk9agI9Mn",
        "outputId": "f7b6cfe2-aa8d-48a9-f525-11806b8c8f8f"
      },
      "execution_count": 10,
      "outputs": [
        {
          "output_type": "stream",
          "name": "stderr",
          "text": [
            "WARNING:cassandra.cluster:Downgrading core protocol version from 66 to 65 for 67dcf7bc-6562-4a83-8251-aaef776d1f8a-eu-west-1.db.astra.datastax.com:29042:b4f6d9ed-0f1d-3f7a-82f1-a4a7ea4f84d4. To avoid this, it is best practice to explicitly set Cluster(protocol_version) to the version supported by your cluster. http://datastax.github.io/python-driver/api/cassandra/cluster.html#cassandra.cluster.Cluster.protocol_version\n",
            "WARNING:cassandra.cluster:Downgrading core protocol version from 65 to 5 for 67dcf7bc-6562-4a83-8251-aaef776d1f8a-eu-west-1.db.astra.datastax.com:29042:b4f6d9ed-0f1d-3f7a-82f1-a4a7ea4f84d4. To avoid this, it is best practice to explicitly set Cluster(protocol_version) to the version supported by your cluster. http://datastax.github.io/python-driver/api/cassandra/cluster.html#cassandra.cluster.Cluster.protocol_version\n",
            "WARNING:cassandra.cluster:Downgrading core protocol version from 5 to 4 for 67dcf7bc-6562-4a83-8251-aaef776d1f8a-eu-west-1.db.astra.datastax.com:29042:b4f6d9ed-0f1d-3f7a-82f1-a4a7ea4f84d4. To avoid this, it is best practice to explicitly set Cluster(protocol_version) to the version supported by your cluster. http://datastax.github.io/python-driver/api/cassandra/cluster.html#cassandra.cluster.Cluster.protocol_version\n"
          ]
        },
        {
          "output_type": "stream",
          "name": "stdout",
          "text": [
            "Connected!\n"
          ]
        }
      ]
    },
    {
      "cell_type": "markdown",
      "source": [
        "## Creating Bronze Layer\n",
        "\n",
        "\n"
      ],
      "metadata": {
        "id": "lVAjvxAiJyVg"
      }
    },
    {
      "cell_type": "code",
      "source": [
        "session.execute(\"\"\"\n",
        "    CREATE TABLE IF NOT EXISTS lokesh_ks.bronze_table (\n",
        "        Id UUID PRIMARY KEY,\n",
        "        Region TEXT,\n",
        "        Country TEXT,\n",
        "        Item_Type TEXT,\n",
        "        Sales_Channel TEXT,\n",
        "        Order_Priority TEXT,\n",
        "        Order_Date TEXT,\n",
        "        Order_Id TEXT,\n",
        "        Ship_Date TEXT,\n",
        "        Units_Sold INT,\n",
        "        Unit_Price FLOAT,\n",
        "        Unit_Cost FLOAT,\n",
        "        Total_Revenue FLOAT,\n",
        "        Total_Cost FLOAT,\n",
        "        Total_Profit FLOAT\n",
        "    );\n",
        "    \"\"\")"
      ],
      "metadata": {
        "colab": {
          "base_uri": "https://localhost:8080/"
        },
        "id": "3Vwb7_IxJ5g3",
        "outputId": "083f2014-d016-4b6a-d155-9b3b843d8370"
      },
      "execution_count": 3,
      "outputs": [
        {
          "output_type": "execute_result",
          "data": {
            "text/plain": [
              "<cassandra.cluster.ResultSet at 0x7a7ab051db50>"
            ]
          },
          "metadata": {},
          "execution_count": 3
        }
      ]
    },
    {
      "cell_type": "code",
      "source": [
        "sales_data = pd.read_csv('sales_data.csv')\n",
        "for _, row in sales_data.iterrows():\n",
        "        session.execute(\"\"\"\n",
        "        INSERT INTO lokesh_ks.bronze_table (Id, Region, Country, Item_Type, Sales_Channel, Order_Priority, Order_Date, Order_Id, Ship_Date, Units_Sold, Unit_Price, Unit_Cost, Total_Revenue, Total_Cost, Total_Profit)\n",
        "        VALUES (%s, %s, %s, %s, %s, %s, %s, %s, %s, %s, %s, %s, %s, %s, %s);\n",
        "        \"\"\", (uuid.uuid4(), row['Region'], row['Country'], row['Item Type'], row['Sales Channel'], row['Order Priority'], row['Order Date'], str(row['Order ID']), row['Ship Date'], row['UnitsSold'], row['UnitPrice'], row['UnitCost'], row['TotalRevenue'], row['TotalCost'], row['TotalProfit']))"
      ],
      "metadata": {
        "id": "UN3g70gsKtQU"
      },
      "execution_count": 4,
      "outputs": []
    },
    {
      "cell_type": "code",
      "source": [
        "data = session.execute(\"SELECT * FROM lokesh_ks.bronze_table;\")\n",
        "row_count = sum(1 for _ in data)\n",
        "print(f\"Bronze table row count: {row_count}\")\n",
        "rows = session.execute(\"SELECT * FROM lokesh_ks.bronze_table limit 5\")\n",
        "for row in rows:\n",
        "    print(row)\n"
      ],
      "metadata": {
        "colab": {
          "base_uri": "https://localhost:8080/"
        },
        "collapsed": true,
        "id": "1aBTnOMbMN1X",
        "outputId": "1c23a23b-210f-4c2e-c8cf-22cb30e57370"
      },
      "execution_count": 5,
      "outputs": [
        {
          "output_type": "stream",
          "name": "stdout",
          "text": [
            "Bronze table row count: 198\n",
            "Row(id=UUID('adea50d1-6eb0-4ef4-8000-cd1084acc5c8'), country='Madagascar', item_type='Clothes', order_date='10/17/2016', order_id='494570004', order_priority='L', region='Sub-Saharan Africa', sales_channel='Online', ship_date='10/26/2016', total_cost=111462.3984375, total_profit=228398.40625, total_revenue=339860.8125, unit_cost=35.84000015258789, unit_price=109.27999877929688, units_sold=3110)\n",
            "Row(id=UUID('52394bdf-7658-4acc-bfa1-c96e1e2f6810'), country='Belize', item_type='Personal Care', order_date='6/14/2015', order_id='315402734', order_priority='H', region='Central America and the Caribbean', sales_channel='Online', ship_date='8/2/2015', total_cost=200215.109375, total_profit=88536.9765625, total_revenue=288752.09375, unit_cost=56.66999816894531, unit_price=81.7300033569336, units_sold=3533)\n",
            "Row(id=UUID('a989e8ae-a616-454e-a45e-3869764e66a4'), country='Taiwan', item_type='Fruits', order_date='2/9/2014', order_id='732588374', order_priority='M', region='Asia', sales_channel='Offline', ship_date='2/23/2014', total_cost=55595.28125, total_profit=19361.939453125, total_revenue=74957.21875, unit_cost=6.920000076293945, unit_price=9.329999923706055, units_sold=8034)\n",
            "Row(id=UUID('6eab2470-06f6-447d-a463-57c7cfa786be'), country='Malawi', item_type='Meat', order_date='3/1/2016', order_id='450544869', order_priority='H', region='Sub-Saharan Africa', sales_channel='Offline', ship_date='3/12/2016', total_cost=1857730.875, total_profit=291376.8125, total_revenue=2149107.75, unit_cost=364.69000244140625, unit_price=421.8900146484375, units_sold=5094)\n",
            "Row(id=UUID('060903f1-fcb6-46eb-96af-d1726e23edff'), country='Iceland', item_type='Baby Food', order_date='10/2/2010', order_id='678230941', order_priority='M', region='Europe', sales_channel='Offline', ship_date='11/3/2010', total_cost=392492.03125, total_profit=236007.3125, total_revenue=628499.375, unit_cost=159.4199981689453, unit_price=255.27999877929688, units_sold=2462)\n"
          ]
        }
      ]
    },
    {
      "cell_type": "markdown",
      "source": [
        "## Data Profiling"
      ],
      "metadata": {
        "id": "7X4ksCh64mIl"
      }
    },
    {
      "cell_type": "code",
      "source": [
        "data = session.execute(\"SELECT * FROM lokesh_ks.bronze_table;\")\n",
        "df = pd.DataFrame(list(data))\n",
        "df = df.drop(columns=['id'])"
      ],
      "metadata": {
        "id": "kZWfiilT4toC"
      },
      "execution_count": 6,
      "outputs": []
    },
    {
      "cell_type": "code",
      "source": [
        "print(df.info())"
      ],
      "metadata": {
        "colab": {
          "base_uri": "https://localhost:8080/"
        },
        "id": "TowDtM0i4tbz",
        "outputId": "8dfda96f-9f73-4243-d973-bef2ca0e582f"
      },
      "execution_count": 7,
      "outputs": [
        {
          "output_type": "stream",
          "name": "stdout",
          "text": [
            "<class 'pandas.core.frame.DataFrame'>\n",
            "RangeIndex: 198 entries, 0 to 197\n",
            "Data columns (total 14 columns):\n",
            " #   Column          Non-Null Count  Dtype  \n",
            "---  ------          --------------  -----  \n",
            " 0   country         198 non-null    object \n",
            " 1   item_type       198 non-null    object \n",
            " 2   order_date      198 non-null    object \n",
            " 3   order_id        198 non-null    object \n",
            " 4   order_priority  198 non-null    object \n",
            " 5   region          198 non-null    object \n",
            " 6   sales_channel   198 non-null    object \n",
            " 7   ship_date       198 non-null    object \n",
            " 8   total_cost      198 non-null    float64\n",
            " 9   total_profit    198 non-null    float64\n",
            " 10  total_revenue   198 non-null    float64\n",
            " 11  unit_cost       198 non-null    float64\n",
            " 12  unit_price      198 non-null    float64\n",
            " 13  units_sold      198 non-null    int64  \n",
            "dtypes: float64(5), int64(1), object(8)\n",
            "memory usage: 21.8+ KB\n",
            "None\n"
          ]
        }
      ]
    },
    {
      "cell_type": "code",
      "source": [
        "print(df.describe(include='all'))"
      ],
      "metadata": {
        "colab": {
          "base_uri": "https://localhost:8080/"
        },
        "id": "9c1Ol6jj4tNd",
        "outputId": "e11a157a-4ccf-44f3-d17b-e9eb0356e85d"
      },
      "execution_count": 8,
      "outputs": [
        {
          "output_type": "stream",
          "name": "stdout",
          "text": [
            "       country item_type order_date   order_id order_priority  \\\n",
            "count      198       198        198        198            198   \n",
            "unique      80        12         96         99              4   \n",
            "top      Ghana    Fruits   9/8/2013  494570004              M   \n",
            "freq         6        26          4          2             68   \n",
            "mean       NaN       NaN        NaN        NaN            NaN   \n",
            "std        NaN       NaN        NaN        NaN            NaN   \n",
            "min        NaN       NaN        NaN        NaN            NaN   \n",
            "25%        NaN       NaN        NaN        NaN            NaN   \n",
            "50%        NaN       NaN        NaN        NaN            NaN   \n",
            "75%        NaN       NaN        NaN        NaN            NaN   \n",
            "max        NaN       NaN        NaN        NaN            NaN   \n",
            "\n",
            "                    region sales_channel   ship_date    total_cost  \\\n",
            "count                  198           198         198  1.980000e+02   \n",
            "unique                   7             2          98           NaN   \n",
            "top     Sub-Saharan Africa        Online  12/28/2010           NaN   \n",
            "freq                    48           118           4           NaN   \n",
            "mean                   NaN           NaN         NaN  1.044069e+06   \n",
            "std                    NaN           NaN         NaN  1.333751e+06   \n",
            "min                    NaN           NaN         NaN  9.155160e+03   \n",
            "25%                    NaN           NaN         NaN  9.031096e+04   \n",
            "50%                    NaN           NaN         NaN  3.924920e+05   \n",
            "75%                    NaN           NaN         NaN  1.600786e+06   \n",
            "max                    NaN           NaN         NaN  5.051690e+06   \n",
            "\n",
            "        total_profit  total_revenue   unit_cost  unit_price   units_sold  \n",
            "count   1.980000e+02   1.980000e+02  198.000000  198.000000   198.000000  \n",
            "unique           NaN            NaN         NaN         NaN          NaN  \n",
            "top              NaN            NaN         NaN         NaN          NaN  \n",
            "freq             NaN            NaN         NaN         NaN          NaN  \n",
            "mean    4.174464e+05   1.461515e+06  191.126769  271.181016  4998.080808  \n",
            "std     4.492441e+05   1.719708e+06  184.894520  232.865626  2984.410199  \n",
            "min     3.188430e+03   1.234359e+04    6.920000    9.330000   259.000000  \n",
            "25%     5.704938e+04   1.558205e+05   35.840000   81.730003  2467.750000  \n",
            "50%     2.517372e+05   6.525323e+05  117.110001  205.699997  4806.000000  \n",
            "75%     6.632836e+05   2.184546e+06  364.690002  437.200012  7745.000000  \n",
            "max     1.681149e+06   6.666662e+06  524.960022  668.270020  9976.000000  \n"
          ]
        }
      ]
    },
    {
      "cell_type": "markdown",
      "source": [
        "### Data has no nulls, data types are transformed in silver_table table date column, order id\n"
      ],
      "metadata": {
        "id": "VoGwa5Nf5oWV"
      }
    },
    {
      "cell_type": "markdown",
      "source": [
        "## Creating Silver Layer"
      ],
      "metadata": {
        "id": "0ry2PKUdOy5G"
      }
    },
    {
      "cell_type": "code",
      "source": [
        "session.execute(\"\"\"\n",
        "    CREATE TABLE IF NOT EXISTS lokesh_ks.silver_table (\n",
        "        id UUID PRIMARY KEY,\n",
        "        region TEXT,\n",
        "        country TEXT,\n",
        "        item_type TEXT,\n",
        "        sales_channel TEXT,\n",
        "        order_priority TEXT,\n",
        "        order_date DATE,\n",
        "        order_id BIGINT,\n",
        "        ship_date DATE,\n",
        "        units_sold INT,\n",
        "        unit_price FLOAT,\n",
        "        unit_cost FLOAT,\n",
        "        total_revenue FLOAT,\n",
        "        total_cost FLOAT,\n",
        "        total_profit FLOAT\n",
        "    );\n",
        "    \"\"\")"
      ],
      "metadata": {
        "colab": {
          "base_uri": "https://localhost:8080/"
        },
        "id": "8bC6ObOvOkza",
        "outputId": "57c6e7cc-5af9-4d9c-a393-22e125a095c4"
      },
      "execution_count": 9,
      "outputs": [
        {
          "output_type": "execute_result",
          "data": {
            "text/plain": [
              "<cassandra.cluster.ResultSet at 0x7a7ab0513590>"
            ]
          },
          "metadata": {},
          "execution_count": 9
        }
      ]
    },
    {
      "cell_type": "code",
      "source": [
        "rows = session.execute(\"SELECT * FROM bronze_table;\")\n",
        "sales= []\n",
        "for row in rows:\n",
        "    sales.append(row._asdict())\n",
        "sales_bronze = pd.DataFrame(sales)\n",
        "\n",
        "for _, row in sales_bronze.iterrows():\n",
        "    order_date = datetime.strptime(row['order_date'], \"%m/%d/%Y\").date()\n",
        "    ship_date = datetime.strptime(row['ship_date'], \"%m/%d/%Y\").date()\n",
        "    order_id = int(row['order_id'])\n",
        "\n",
        "    session.execute(\"\"\"\n",
        "    INSERT INTO silver_table (\n",
        "        id, region, country, item_type, sales_channel, order_priority, order_date,\n",
        "        order_id, ship_date, units_sold, unit_price, unit_cost, total_revenue, total_cost, total_profit\n",
        "    ) VALUES (%s, %s, %s, %s, %s, %s, %s, %s, %s, %s, %s, %s, %s, %s, %s);\n",
        "    \"\"\", (\n",
        "        uuid.uuid4(),\n",
        "        row['region'],\n",
        "        row['country'],\n",
        "        row['item_type'],\n",
        "        row['sales_channel'],\n",
        "        row['order_priority'],\n",
        "        order_date,\n",
        "        order_id,\n",
        "        ship_date,\n",
        "        row['units_sold'],\n",
        "        row['unit_price'],\n",
        "        row['unit_cost'],\n",
        "        row['total_revenue'],\n",
        "        row['total_cost'],\n",
        "        row['total_profit']\n",
        "    ))\n"
      ],
      "metadata": {
        "id": "tLQ7AAONPsWa"
      },
      "execution_count": 11,
      "outputs": []
    },
    {
      "cell_type": "code",
      "source": [
        "silver_rows = session.execute(\"SELECT * FROM silver_table limit 5\")\n",
        "for row in silver_rows:\n",
        "    print(row)"
      ],
      "metadata": {
        "colab": {
          "base_uri": "https://localhost:8080/"
        },
        "id": "4_PjWfDIQ3Vg",
        "outputId": "cdcd8c98-f173-4596-dcc5-03b7afa02f1a"
      },
      "execution_count": 12,
      "outputs": [
        {
          "output_type": "stream",
          "name": "stdout",
          "text": [
            "Row(id=UUID('4cae57b7-f217-472b-aca8-29c498edb0f9'), country='Thailand', item_type='Meat', order_date=Date(16470), order_id=252889239, order_priority='C', region='Asia', sales_channel='Online', ship_date=Date(16485), total_cost=1605000.75, total_profit=251737.203125, total_revenue=1856737.875, unit_cost=364.69000244140625, unit_price=421.8900146484375, units_sold=4401)\n",
            "Row(id=UUID('3185e8d1-ee21-4d30-b830-558434d32987'), country='Nicaragua', item_type='Baby Food', order_date=Date(17116), order_id=343752610, order_priority='L', region='Central America and the Caribbean', sales_channel='Online', ship_date=Date(17121), total_cost=460883.21875, total_profit=277131.25, total_revenue=738014.5, unit_cost=159.4199981689453, unit_price=255.27999877929688, units_sold=2891)\n",
            "Row(id=UUID('27e2be60-29cb-4dbe-8fa2-8bf4fa5519c0'), country='Sweden', item_type='Beverages', order_date=Date(15596), order_id=265081918, order_priority='H', region='Europe', sales_channel='Online', ship_date=Date(15625), total_cost=78998.1484375, total_profit=38915.1015625, total_revenue=117913.25, unit_cost=31.790000915527344, unit_price=47.45000076293945, units_sold=2485)\n",
            "Row(id=UUID('1ae12773-01f3-4f31-81be-95b5ab1fa566'), country='Switzerland', item_type='Office Supplies', order_date=Date(16280), order_id=830410039, order_priority='C', region='Europe', sales_channel='Offline', ship_date=Date(16309), total_cost=2960249.5, total_profit=711923.75, total_revenue=3672173.25, unit_cost=524.9600219726562, unit_price=651.2100219726562, units_sold=5639)\n",
            "Row(id=UUID('7c7d4e66-45aa-45ea-825a-9a18d70bebb5'), country='Dominica', item_type='Beverages', order_date=Date(15503), order_id=438011872, order_priority='L', region='Central America and the Caribbean', sales_channel='Online', ship_date=Date(15539), total_cost=200308.796875, total_profit=98673.65625, total_revenue=298982.4375, unit_cost=31.790000915527344, unit_price=47.45000076293945, units_sold=6301)\n"
          ]
        }
      ]
    },
    {
      "cell_type": "markdown",
      "source": [
        "## Creating Gold Layer"
      ],
      "metadata": {
        "id": "CAdWy0u0tUND"
      }
    },
    {
      "cell_type": "markdown",
      "source": [
        "#### Gold 1 Total Profit by Sales Channel"
      ],
      "metadata": {
        "id": "ZZhSFspPAtyq"
      }
    },
    {
      "cell_type": "code",
      "source": [
        "session.execute(\"\"\"\n",
        "    CREATE TABLE IF NOT EXISTS lokesh_ks.gold_total_profit_by_sales_channel (\n",
        "        sales_channel TEXT PRIMARY KEY,\n",
        "        total_profit FLOAT\n",
        "    );\n",
        "\"\"\")\n",
        "sales_channel_profits = {}\n",
        "for row in session.execute(\"SELECT sales_channel, total_profit FROM silver_table\"):\n",
        "    sales_channel = row.sales_channel\n",
        "    profit = row.total_profit\n",
        "    sales_channel_profits[sales_channel] = sales_channel_profits.get(sales_channel, 0) + profit\n",
        "\n",
        "for sales_channel, total_profit in sales_channel_profits.items():\n",
        "    session.execute(\"\"\"\n",
        "        INSERT INTO gold_total_profit_by_sales_channel (sales_channel, total_profit)\n",
        "        VALUES (%s, %s);\n",
        "    \"\"\", (sales_channel, total_profit))"
      ],
      "metadata": {
        "id": "k6OvajDS-UAg"
      },
      "execution_count": 18,
      "outputs": []
    },
    {
      "cell_type": "code",
      "source": [
        "gold1_rows = session.execute(\"SELECT * FROM gold_total_profit_by_sales_channel limit 5\")\n",
        "for row in gold1_rows:\n",
        "    print(row)"
      ],
      "metadata": {
        "colab": {
          "base_uri": "https://localhost:8080/"
        },
        "id": "LhJ7IOsS-T87",
        "outputId": "64cbd10d-eeb9-4877-9093-b0d93deeaf37"
      },
      "execution_count": 20,
      "outputs": [
        {
          "output_type": "stream",
          "name": "stdout",
          "text": [
            "Row(sales_channel='Online', total_profit=49927612.0)\n",
            "Row(sales_channel='Offline', total_profit=32726772.0)\n"
          ]
        }
      ]
    },
    {
      "cell_type": "markdown",
      "source": [
        "#### Gold 2 Average Unit Price by Item Type and Region"
      ],
      "metadata": {
        "id": "p9f3XJHcAoSQ"
      }
    },
    {
      "cell_type": "code",
      "source": [
        "session.execute(\"\"\"\n",
        "    CREATE TABLE IF NOT EXISTS lokesh_ks.gold_avg_unit_price_by_item_region (\n",
        "        item_type TEXT,\n",
        "        region TEXT,\n",
        "        avg_unit_price FLOAT,\n",
        "        PRIMARY KEY (item_type, region)\n",
        "    );\n",
        "\"\"\")\n",
        "rows = session.execute(\"\"\"\n",
        "    SELECT unit_price, item_type, region\n",
        "    FROM silver_table;\n",
        "\"\"\")\n",
        "\n",
        "unit_prices = {}\n",
        "for row in rows:\n",
        "    key = (row.item_type, row.region)\n",
        "    if key not in unit_prices:\n",
        "        unit_prices[key] = []\n",
        "    unit_prices[key].append(row.unit_price)\n",
        "\n",
        "for (item_type, region), prices in unit_prices.items():\n",
        "    avg_unit_price = sum(prices) / len(prices)\n",
        "    session.execute(\"\"\"\n",
        "        INSERT INTO gold_avg_unit_price_by_item_region (item_type, region, avg_unit_price)\n",
        "        VALUES (%s, %s, %s);\n",
        "    \"\"\", (item_type, region, avg_unit_price))"
      ],
      "metadata": {
        "id": "pJizunEM-8mR"
      },
      "execution_count": 22,
      "outputs": []
    },
    {
      "cell_type": "code",
      "source": [
        "gold2_rows = session.execute(\"SELECT * FROM gold_avg_unit_price_by_item_region limit 5\")\n",
        "for row in gold2_rows:\n",
        "    print(row)"
      ],
      "metadata": {
        "colab": {
          "base_uri": "https://localhost:8080/"
        },
        "id": "VLr7i6v8-T6L",
        "outputId": "ef9fc058-5c75-4b92-a6f0-8c15cb821d90"
      },
      "execution_count": 23,
      "outputs": [
        {
          "output_type": "stream",
          "name": "stdout",
          "text": [
            "Row(item_type='Household', region='Asia', avg_unit_price=668.27001953125)\n",
            "Row(item_type='Household', region='Australia and Oceania', avg_unit_price=668.27001953125)\n",
            "Row(item_type='Household', region='Central America and the Caribbean', avg_unit_price=668.27001953125)\n",
            "Row(item_type='Household', region='Europe', avg_unit_price=668.27001953125)\n",
            "Row(item_type='Household', region='Middle East and North Africa', avg_unit_price=668.27001953125)\n"
          ]
        }
      ]
    },
    {
      "cell_type": "markdown",
      "source": [
        "#### Gold 3 Total Units Sold by Order Priority and Country"
      ],
      "metadata": {
        "id": "hxYsLz4xAc9t"
      }
    },
    {
      "cell_type": "code",
      "source": [
        "session.execute(\"\"\"\n",
        "    CREATE TABLE IF NOT EXISTS lokesh_ks.gold_total_units_sold_by_priority_country (\n",
        "        order_priority TEXT,\n",
        "        country TEXT,\n",
        "        total_units_sold INT,\n",
        "        PRIMARY KEY (order_priority, country)\n",
        "    );\n",
        "\"\"\")\n",
        "\n",
        "rows = session.execute(\"\"\"\n",
        "    SELECT order_priority, country, units_sold\n",
        "    FROM silver_table;\n",
        "\"\"\")\n",
        "\n",
        "units_sold = {}\n",
        "for row in rows:\n",
        "    key = (row.order_priority, row.country)\n",
        "    if key not in units_sold:\n",
        "        units_sold[key] = 0\n",
        "    units_sold[key] += row.units_sold\n",
        "\n",
        "for (order_priority, country), total_units in units_sold.items():\n",
        "    session.execute(\"\"\"\n",
        "        INSERT INTO gold_total_units_sold_by_priority_country (order_priority, country, total_units_sold)\n",
        "        VALUES (%s, %s, %s);\n",
        "    \"\"\", (order_priority, country, total_units))\n",
        "\n",
        "gold3_rows = session.execute(\"SELECT * FROM gold_total_units_sold_by_priority_country limit 5\")\n",
        "for row in gold3_rows:\n",
        "  print(row)\n"
      ],
      "metadata": {
        "colab": {
          "base_uri": "https://localhost:8080/"
        },
        "id": "1ogkSiXaAW7L",
        "outputId": "5e81b6fc-b859-4fc1-f8cc-6d397f47a0c6"
      },
      "execution_count": 30,
      "outputs": [
        {
          "output_type": "stream",
          "name": "stdout",
          "text": [
            "Row(order_priority='C', country='Antigua and Barbuda ', total_units_sold=12594)\n",
            "Row(order_priority='C', country='Dominica', total_units_sold=14088)\n",
            "Row(order_priority='C', country='Egypt', total_units_sold=2384)\n",
            "Row(order_priority='C', country='Finland', total_units_sold=1396)\n",
            "Row(order_priority='C', country='Haiti', total_units_sold=4104)\n"
          ]
        }
      ]
    }
  ]
}